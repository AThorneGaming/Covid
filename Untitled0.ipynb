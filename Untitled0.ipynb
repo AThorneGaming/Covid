{
  "nbformat": 4,
  "nbformat_minor": 0,
  "metadata": {
    "colab": {
      "provenance": [],
      "authorship_tag": "ABX9TyNln96wvof20+wDeH+n/2WJ",
      "include_colab_link": true
    },
    "kernelspec": {
      "name": "python3",
      "display_name": "Python 3"
    },
    "language_info": {
      "name": "python"
    }
  },
  "cells": [
    {
      "cell_type": "markdown",
      "metadata": {
        "id": "view-in-github",
        "colab_type": "text"
      },
      "source": [
        "<a href=\"https://colab.research.google.com/github/Byazh/Covid/blob/main/Untitled0.ipynb\" target=\"_parent\"><img src=\"https://colab.research.google.com/assets/colab-badge.svg\" alt=\"Open In Colab\"/></a>"
      ]
    },
    {
      "cell_type": "code",
      "execution_count": 22,
      "metadata": {
        "colab": {
          "base_uri": "https://localhost:8080/",
          "height": 1000
        },
        "id": "Cx-jwtWUN8Xo",
        "outputId": "1e93b291-6649-4e02-83c6-41c04d17eaff"
      },
      "outputs": [
        {
          "output_type": "stream",
          "name": "stderr",
          "text": [
            "/usr/local/lib/python3.10/dist-packages/openpyxl/worksheet/_reader.py:329: UserWarning: Unknown extension is not supported and will be removed\n",
            "  warn(msg)\n"
          ]
        },
        {
          "output_type": "display_data",
          "data": {
            "text/plain": [
              "<Figure size 640x480 with 1 Axes>"
            ],
            "image/png": "[encoded data removed]"
          },
          "metadata": {}
        },
        {
          "output_type": "stream",
          "name": "stdout",
          "text": [
            "                            OLS Regression Results                            \n",
            "==============================================================================\n",
            "Dep. Variable:                 growth   R-squared:                       0.124\n",
            "Model:                            OLS   Adj. R-squared:                  0.110\n",
            "Method:                 Least Squares   F-statistic:                     8.892\n",
            "Date:                Sun, 15 Sep 2024   Prob (F-statistic):            0.00407\n",
            "Time:                        11:01:27   Log-Likelihood:                -129.06\n",
            "No. Observations:                  65   AIC:                             262.1\n",
            "Df Residuals:                      63   BIC:                             266.5\n",
            "Df Model:                           1                                         \n",
            "Covariance Type:            nonrobust                                         \n",
            "==============================================================================\n",
            "                 coef    std err          t      P>|t|      [0.025      0.975]\n",
            "------------------------------------------------------------------------------\n",
            "const          0.6403      0.490      1.307      0.196      -0.339       1.619\n",
            "tradeshare     2.3064      0.773      2.982      0.004       0.761       3.852\n",
            "==============================================================================\n",
            "Omnibus:                        3.236   Durbin-Watson:                   2.180\n",
            "Prob(Omnibus):                  0.198   Jarque-Bera (JB):                2.934\n",
            "Skew:                           0.136   Prob(JB):                        0.231\n",
            "Kurtosis:                       4.005   Cond. No.                         4.67\n",
            "==============================================================================\n",
            "\n",
            "Notes:\n",
            "[1] Standard Errors assume that the covariance matrix of the errors is correctly specified.\n",
            "Slope: 2.306433739222276\n",
            "   TradeShare  PredictedGrowthRate\n",
            "0         0.5             1.793482\n",
            "1         1.0             2.946699\n",
            "                            OLS Regression Results                            \n",
            "==============================================================================\n",
            "Dep. Variable:                 growth   R-squared:                       0.045\n",
            "Model:                            OLS   Adj. R-squared:                  0.029\n",
            "Method:                 Least Squares   F-statistic:                     2.898\n",
            "Date:                Sun, 15 Sep 2024   Prob (F-statistic):             0.0937\n",
            "Time:                        11:01:28   Log-Likelihood:                -127.04\n",
            "No. Observations:                  64   AIC:                             258.1\n",
            "Df Residuals:                      62   BIC:                             262.4\n",
            "Df Model:                           1                                         \n",
            "Covariance Type:            nonrobust                                         \n",
            "==============================================================================\n",
            "                 coef    std err          t      P>|t|      [0.025      0.975]\n",
            "------------------------------------------------------------------------------\n",
            "const          0.9574      0.580      1.650      0.104      -0.203       2.118\n",
            "tradeshare     1.6809      0.987      1.702      0.094      -0.293       3.655\n",
            "==============================================================================\n",
            "Omnibus:                        3.727   Durbin-Watson:                   2.204\n",
            "Prob(Omnibus):                  0.155   Jarque-Bera (JB):                3.709\n",
            "Skew:                           0.146   Prob(JB):                        0.157\n",
            "Kurtosis:                       4.142   Cond. No.                         5.77\n",
            "==============================================================================\n",
            "\n",
            "Notes:\n",
            "[1] Standard Errors assume that the covariance matrix of the errors is correctly specified.\n",
            "   TradeShare  PredictedGrowthRate\n",
            "0         0.5             1.797863\n",
            "1         1.0             2.638315\n"
          ]
        },
        {
          "output_type": "stream",
          "name": "stderr",
          "text": [
            "/usr/local/lib/python3.10/dist-packages/openpyxl/worksheet/_reader.py:329: UserWarning: Unknown extension is not supported and will be removed\n",
            "  warn(msg)\n"
          ]
        }
      ],
      "source": [
        "import pandas as pd\n",
        "import matplotlib.pyplot as plt\n",
        "import statsmodels.api as sm\n",
        "\n",
        "df = pd.read_excel('/content/sample_data/Growth.xlsx')\n",
        "\n",
        "plt.scatter(df['tradeshare'], df['growth'], color='blue')\n",
        "\n",
        "plt.show()\n",
        "\n",
        "# a. There doesn't seem to be a strong relationship between tradeshare and growth rate. We only see that most values are concentrated in a certain area.\n",
        "\n",
        "# b. Malta is the dot on the top right corner. We can see that it's an outlier, meaning that it's value is very far from the average for both tradeshare and annual growth.\n",
        "\n",
        "X = df['tradeshare']\n",
        "y = df['growth']\n",
        "\n",
        "X = sm.add_constant(X)\n",
        "\n",
        "model = sm.OLS(y, X).fit()\n",
        "\n",
        "print(model.summary())\n",
        "\n",
        "slope = model.params['tradeshare']\n",
        "\n",
        "print(f'Slope: {slope}')\n",
        "\n",
        "# c. The estimated slope is the value of slope is printed: 2.306433739222276\n",
        "\n",
        "trade_shares = pd.DataFrame({'tradeshare': [0.5, 1.0]})\n",
        "\n",
        "trade_shares_with_const = sm.add_constant(trade_shares)\n",
        "\n",
        "predictions = model.predict(trade_shares_with_const)\n",
        "\n",
        "results = pd.DataFrame({\n",
        "    'TradeShare': [0.5, 1.0],\n",
        "    'PredictedGrowthRate': predictions\n",
        "})\n",
        "\n",
        "print(results)\n",
        "\n",
        "# c. These are the results\n",
        "# 0.5             1.793482\n",
        "# 1.0             2.946699\n",
        "\n",
        "# Now for d. let's remove the last entry, which is Malta\n",
        "\n",
        "df = pd.read_excel('/content/sample_data/Growth.xlsx')\n",
        "\n",
        "df_excluding_malta = df.iloc[:-1] # Could have also written like df.drop(index=64)\n",
        "\n",
        "X = df_excluding_malta['tradeshare']\n",
        "y = df_excluding_malta['growth']\n",
        "\n",
        "X = sm.add_constant(X)\n",
        "\n",
        "model_excluding_malta = sm.OLS(y, X).fit()\n",
        "\n",
        "trade_shares = pd.DataFrame({'tradeshare': [0.5, 1.0]})\n",
        "\n",
        "trade_shares_with_const = sm.add_constant(trade_shares)\n",
        "\n",
        "predictions_excluding_malta = model_excluding_malta.predict(trade_shares_with_const)\n",
        "\n",
        "results_excluding_malta = pd.DataFrame({\n",
        "    'TradeShare': [0.5, 1.0],\n",
        "    'PredictedGrowthRate': predictions_excluding_malta\n",
        "})\n",
        "\n",
        "print(results_excluding_malta)\n",
        "\n",
        "# d. This is the result:\n",
        "# 0.5             1.797863\n",
        "# 1.0             2.638315"
      ]
    }
  ]
}